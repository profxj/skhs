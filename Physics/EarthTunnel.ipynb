{
 "cells": [
  {
   "cell_type": "markdown",
   "id": "af73ac79-92dc-4c33-a172-0e8227669a14",
   "metadata": {},
   "source": [
    "# Earth Tunnel"
   ]
  },
  {
   "cell_type": "code",
   "execution_count": 15,
   "id": "80bb3666-c193-404e-a697-7224240a9633",
   "metadata": {},
   "outputs": [],
   "source": [
    "# imports\n",
    "import numpy as np\n",
    "from astropy import units\n",
    "from astropy import constants\n",
    "\n",
    "from matplotlib import pyplot as plt"
   ]
  },
  {
   "cell_type": "markdown",
   "id": "218d7e28-c3a0-4e9f-8441-f56df0c8a49a",
   "metadata": {},
   "source": [
    "# We will assume the Earth has a constant density $\\rho_\\oplus$"
   ]
  },
  {
   "cell_type": "markdown",
   "id": "785eee52-ab56-442c-8b58-0d4a59a24abd",
   "metadata": {},
   "source": [
    "## We calculate this as follows:\n",
    "\n",
    "## $M_\\oplus = \\frac{4}{3} \\pi R_\\oplus^3 \\rho_\\oplus$\n",
    "\n",
    "## where, $M_\\oplus = 5.97 10^{24} \\, \\rm kg$ is the mass of the Earth and $R_\\oplus = 6378 \\, \\rm km$ is the radius of the Earth\n",
    "\n",
    "## Therefore, \n",
    "\n",
    "## $\\rho_\\oplus = \\frac{3}{4\\pi} \\frac{M_\\oplus}{R_\\oplus^3}$"
   ]
  },
  {
   "cell_type": "markdown",
   "id": "508a332b-c3bb-4571-adfa-08794ab3dea6",
   "metadata": {},
   "source": [
    "## Let's calculate that"
   ]
  },
  {
   "cell_type": "code",
   "execution_count": 6,
   "id": "94a3f3ed-1c5a-40e5-92a6-a06292f3a165",
   "metadata": {},
   "outputs": [
    {
     "data": {
      "text/latex": [
       "$5.4950219 \\; \\mathrm{\\frac{g}{cm^{3}}}$"
      ],
      "text/plain": [
       "<Quantity 5.49502187 g / cm3>"
      ]
     },
     "execution_count": 6,
     "metadata": {},
     "output_type": "execute_result"
    }
   ],
   "source": [
    "rho_E = 3/(4*np.pi) * units.Mearth / units.Rearth**3\n",
    "rho_E.to('g/cm^3')"
   ]
  },
  {
   "cell_type": "markdown",
   "id": "4938801b-2e48-479b-8e8c-1d99a6aff634",
   "metadata": {},
   "source": [
    "## Wow, that makes Earth 5x denser than water!"
   ]
  },
  {
   "cell_type": "markdown",
   "id": "c69d52d2-fe98-40a3-b8f4-63e4285796a8",
   "metadata": {},
   "source": [
    "----"
   ]
  },
  {
   "cell_type": "markdown",
   "id": "87f97697-2830-491e-8bac-2b4e12b4336f",
   "metadata": {},
   "source": [
    "# Now let's fuss with velocity\n",
    "\n",
    "##  I like deriving this from conservation of Energy\n",
    "\n",
    "##  We will equate change in kinetic energy with change in potential energy $\\Phi$"
   ]
  },
  {
   "cell_type": "markdown",
   "id": "1f5c2252-bcb3-41cb-9827-5cf32146cf59",
   "metadata": {},
   "source": [
    "## As we discussed at Peter's house, thanks to Gauss' Law (aka the Newton shell), we know the force on a mass at radius $R$ is given by the enclosed mass $M_{enc}$:\n",
    "\n",
    "## $F(R) = \\frac{G M_{\\rm enc}(R)}{R^2}$\n",
    "\n",
    "## where\n",
    "\n",
    "## $M_{\\rm enc}(R) = \\frac{4}{3} \\pi R^3 \\rho_\\oplus$"
   ]
  },
  {
   "cell_type": "markdown",
   "id": "f1f4ca74-9f4c-4443-9fdf-9c93aea28726",
   "metadata": {},
   "source": [
    "## Ok, the change in potential energy $d\\Phi$ by displacing a mass $dR$ under the influence of a force $F(R)$ is given by:\n",
    "\n",
    "## $d\\Phi = F(R) dR$\n",
    "\n",
    "## If we intergrate from the Earth's surface $R = R_\\oplus$ to some interior radius, we have:\n",
    "\n",
    "## $\\Delta \\Phi(R) = \\Phi(R) - \\Phi(R_\\oplus) = - \\int_{R_\\oplus}^R \\frac{G M_{\\rm enc}}{R^2} dR$\n",
    "\n",
    "## $\\Delta \\Phi(R) = -\\int_{R_\\oplus}^R \\frac{4 G \\rho_\\oplus \\pi R^3}{3 R^2} dR$\n",
    "\n",
    "## $\\Delta \\Phi(R) = -\\frac{4\\pi G \\rho_\\oplus}{3} \\int_{R_\\oplus}^R R dR$\n",
    "\n",
    "## $\\Delta \\Phi(R) = \\frac{2\\pi G \\rho_\\oplus}{3} (R_\\oplus^2 - R^2)$"
   ]
  },
  {
   "cell_type": "markdown",
   "id": "57ac31ba-39b5-498f-a00e-a9aa512600ea",
   "metadata": {},
   "source": [
    "## Now we equate to the change in K.E. = $v^2 / 2$\n",
    "\n",
    "## Note, I haven't bothered to express the mass of our object; it cancels out (all objects fall with the same acceleration)!\n",
    "\n",
    "## We finish with:\n",
    "\n",
    "## $v(R)^2 = 2 \\Delta \\Phi(R)$\n",
    "\n",
    "## $v(R) =  (\\frac{4\\pi G \\rho_\\oplus}{3})^{1/2} \\; (R_\\oplus^2 - R^2)^{1/2}$"
   ]
  },
  {
   "cell_type": "markdown",
   "id": "48f33148-b19d-484b-9682-923551c3b846",
   "metadata": {},
   "source": [
    "## Let's calculate that!"
   ]
  },
  {
   "cell_type": "code",
   "execution_count": 61,
   "id": "5deaee02-3023-45b2-b054-75db540029bf",
   "metadata": {},
   "outputs": [],
   "source": [
    "def v(R):\n",
    "    v = np.sqrt(4*np.pi*constants.G*rho_E / 3) * np.sqrt(1*units.Rearth**2 - R**2)\n",
    "    return v"
   ]
  },
  {
   "cell_type": "code",
   "execution_count": 62,
   "id": "c3aa7de6-0a8d-44c7-a69a-f8d8058d438c",
   "metadata": {},
   "outputs": [
    {
     "data": {
      "text/plain": [
       "(<Quantity 0. m / s>, <Quantity 7905.38823439 m / s>)"
      ]
     },
     "execution_count": 62,
     "metadata": {},
     "output_type": "execute_result"
    }
   ],
   "source": [
    "v(1*units.Rearth).to('m/s'), v(0*units.Rearth).to('m/s')"
   ]
  },
  {
   "cell_type": "markdown",
   "id": "29385d75-620b-4845-b223-a636b7325474",
   "metadata": {},
   "source": [
    "## Well, that's a bit fast at the center:  Approximately 8km/s"
   ]
  },
  {
   "cell_type": "markdown",
   "id": "fe7b1ca9-9f8f-451a-9c6a-29f25752f9de",
   "metadata": {},
   "source": [
    "## Let's plot it"
   ]
  },
  {
   "cell_type": "code",
   "execution_count": 63,
   "id": "afd58a52-c887-4537-926e-be4901e6d834",
   "metadata": {},
   "outputs": [],
   "source": [
    "Rs = np.linspace(0,1,10000) * units.Rearth\n",
    "vs = v(Rs).to('km/s')"
   ]
  },
  {
   "cell_type": "code",
   "execution_count": 64,
   "id": "482d7945-99a8-4250-ace0-ba330d161b14",
   "metadata": {},
   "outputs": [
    {
     "data": {
      "image/png": "[encoded data removed]",
      "text/plain": [
       "<Figure size 500x500 with 1 Axes>"
      ]
     },
     "metadata": {},
     "output_type": "display_data"
    }
   ],
   "source": [
    "fig = plt.figure(figsize=(5,5))\n",
    "ax = plt.gca()\n",
    "#\n",
    "ax.plot(Rs, vs)\n",
    "ax.set_xlim(1.,0)\n",
    "#\n",
    "ax.set_xlabel(r\"Radius [$R_\\oplus$]\")\n",
    "ax.set_ylabel(\"v [km/s]\")\n",
    "#\n",
    "plt.show()"
   ]
  },
  {
   "cell_type": "markdown",
   "id": "2fc37a26-62f6-4fbe-94b2-2cdadb574b8e",
   "metadata": {},
   "source": [
    "## As anticipated, our acceleration is greatest at the start when we have the full Earth's mass below us, and the acceleration tends to 0 as we approach the center of the Earth"
   ]
  },
  {
   "cell_type": "markdown",
   "id": "35e0284e-80fb-416b-9f2e-350777246c7f",
   "metadata": {},
   "source": [
    "----"
   ]
  },
  {
   "cell_type": "markdown",
   "id": "8073de60-4e2f-4dc8-a607-09a5848d48bd",
   "metadata": {},
   "source": [
    "# Ok, it is time time.\n",
    "\n",
    "## We know that:\n",
    "\n",
    "## $dR = v(R) dt$\n",
    "\n",
    "## Or, $dt = dR / v(R)$\n",
    "\n",
    "## I will do this numerically, but provide the exact solution below with a bit of Calculus that I finally nailed on the airplane :)"
   ]
  },
  {
   "cell_type": "markdown",
   "id": "c72c2aa7-ee32-4618-a2ef-103013a6235f",
   "metadata": {},
   "source": [
    "## We split up the Earth's radius into 10000 equal steps $\\delta R$ (and to avoid an unpleasant infinity, calculate at the center of each step)\n",
    "\n",
    "## $\\delta R = R_\\oplus / 10000 \\approx 0.6378 \\, \\rm km$"
   ]
  },
  {
   "cell_type": "code",
   "execution_count": 65,
   "id": "9c86d6c4-f96c-4d5b-8914-88ee8f8d569d",
   "metadata": {},
   "outputs": [],
   "source": [
    "Delta_R = 1*units.Rearth / 10000\n",
    "Delta_R.to('km')\n",
    "\n",
    "Rs = np.arange(10000)*units.Rearth/10000 + Delta_R/2. \n",
    "Rs = np.flip(Rs)"
   ]
  },
  {
   "cell_type": "code",
   "execution_count": 66,
   "id": "e941eeb9-4abb-47df-a054-364922648bcf",
   "metadata": {},
   "outputs": [
    {
     "data": {
      "text/plain": [
       "(<Quantity 0.99995 earthRad>, <Quantity 5.e-05 earthRad>)"
      ]
     },
     "execution_count": 66,
     "metadata": {},
     "output_type": "execute_result"
    }
   ],
   "source": [
    "Rs[0], Rs[-1]"
   ]
  },
  {
   "cell_type": "markdown",
   "id": "6da9cc70-4907-4e6c-8c64-cbf253a2bdcf",
   "metadata": {},
   "source": [
    "## Calculate $\\delta t = \\delta R / v(R)$"
   ]
  },
  {
   "cell_type": "code",
   "execution_count": 67,
   "id": "42052d8c-e2a6-4280-8c82-0f83b0915a78",
   "metadata": {},
   "outputs": [],
   "source": [
    "def dt(R):\n",
    "    return Delta_R / v(R) "
   ]
  },
  {
   "cell_type": "code",
   "execution_count": 68,
   "id": "295f5b1f-693a-4bc8-a799-790e6249c9c7",
   "metadata": {},
   "outputs": [],
   "source": [
    "dts = dt(Rs)"
   ]
  },
  {
   "cell_type": "markdown",
   "id": "6d6b7029-1cbb-40cd-b02d-a443ac8bffdf",
   "metadata": {},
   "source": [
    "## Add em up!"
   ]
  },
  {
   "cell_type": "code",
   "execution_count": 69,
   "id": "c96bb15c-4db5-479b-8b4b-72e7ad71c44f",
   "metadata": {},
   "outputs": [
    {
     "data": {
      "text/latex": [
       "$1263.8741 \\; \\mathrm{s}$"
      ],
      "text/plain": [
       "<Quantity 1263.87407033 s>"
      ]
     },
     "execution_count": 69,
     "metadata": {},
     "output_type": "execute_result"
    }
   ],
   "source": [
    "t_total = np.sum(dts)\n",
    "t_total.to('s')"
   ]
  },
  {
   "cell_type": "markdown",
   "id": "f986cf38-754a-4bd6-94c3-ca5ad9325174",
   "metadata": {},
   "source": [
    "## Well, that's rather fast!  Approximately 20min"
   ]
  },
  {
   "cell_type": "markdown",
   "id": "69962ac6-0db4-48c8-917b-38c898f66c76",
   "metadata": {},
   "source": [
    "## Let's plot it"
   ]
  },
  {
   "cell_type": "code",
   "execution_count": 70,
   "id": "968709aa-1e88-4c0c-be44-f7704718c001",
   "metadata": {},
   "outputs": [],
   "source": [
    "t_cum = np.cumsum(dts).to('s')"
   ]
  },
  {
   "cell_type": "code",
   "execution_count": 71,
   "id": "05af49cf-c125-46c7-a8a8-6ddbdd2b4889",
   "metadata": {},
   "outputs": [
    {
     "data": {
      "image/png": "[encoded data removed]",
      "text/plain": [
       "<Figure size 500x500 with 1 Axes>"
      ]
     },
     "metadata": {},
     "output_type": "display_data"
    }
   ],
   "source": [
    "fig = plt.figure(figsize=(5,5))\n",
    "ax = plt.gca()\n",
    "#\n",
    "ax.plot(t_cum, Rs)\n",
    "ax.set_ylim(1.,0)\n",
    "#\n",
    "ax.set_ylabel(r\"Radius [$R_\\oplus$]\")\n",
    "ax.set_xlabel(\"Time since we let it go [s]\")\n",
    "#\n",
    "plt.show()"
   ]
  },
  {
   "cell_type": "markdown",
   "id": "b5fcb7f7-2d2c-4760-b78c-1a54eb3a7b1b",
   "metadata": {},
   "source": [
    "# Those of you who have been following along, will astutely note that the round trip will be 4 times 20min or $\\approx 80$min"
   ]
  },
  {
   "cell_type": "markdown",
   "id": "1d8ad55d-ab11-4b68-a77b-17e77ef8e50f",
   "metadata": {},
   "source": [
    "## And you might know that a satellite in orbit takes $\\approx 90$min to go around\n",
    "\n",
    "## Well, maybe if I weren't so tired last night, I would have intuited the Earth tunnel solution from my knowledge of satellites.\n",
    "\n",
    "## You see, the satellite is in free fall (you know it has no engine).  \n",
    "\n",
    "## So, the only real difference between it and our Earth tunnel is that it has to circle the Earth.  But wait, you say, them satellites are moving fast!  Yes, but *all* of that speed is horizontal.  \n",
    "\n",
    "## They are yo-yoin'g just like our solid waste!   And the time is *identical*!!\n",
    "\n",
    "## Ok, that leaves the reader with an exercise:  \n",
    "\n",
    "## Why did we calculate only 80min and not 90min?!"
   ]
  },
  {
   "cell_type": "markdown",
   "id": "1f9c7a5c-cbf7-4562-b1e2-79fb27653189",
   "metadata": {},
   "source": [
    "----"
   ]
  },
  {
   "cell_type": "markdown",
   "id": "31c49ae4-0c62-4e58-849a-aa528f514194",
   "metadata": {},
   "source": [
    "# Let's do the Integral for the time calculation, remembering:\n",
    "\n",
    "## $dt = dR / v(R)$\n",
    "\n",
    "## and\n",
    "\n",
    "## $v(R) =  (\\frac{4\\pi G \\rho_\\oplus}{3})^{1/2} \\; (R_\\oplus^2 - R^2)^{1/2}$"
   ]
  },
  {
   "cell_type": "markdown",
   "id": "86f3ae4e-c4ee-40fc-8dec-4ceb119d1ee3",
   "metadata": {},
   "source": [
    "## We integrate from time 0 to $t$ where $t$ is when we reach the center where $R = 0$ and $t=0$ corresponds to $R = R_\\oplus$\n",
    "\n",
    "## $t = \\int dR / v(R)$\n",
    "\n",
    "## $t = (\\frac{4\\pi G \\rho_\\oplus}{3})^{-1/2} \\; \\int (R_\\oplus^2 - R^2)^{-1/2} dR$"
   ]
  },
  {
   "cell_type": "markdown",
   "id": "59b6c845-33e6-485e-a9fa-4a500f1bad40",
   "metadata": {},
   "source": [
    "## Well, that looks a tad narly.  But I am sure you remember your trig substitutions.\n",
    "\n",
    "## Let $R = R_\\oplus \\sin\\theta$\n",
    "\n",
    "## This means\n",
    "\n",
    "## $dR = R_\\oplus \\cos\\theta d\\theta$"
   ]
  },
  {
   "cell_type": "markdown",
   "id": "d77201cf-7cb5-41be-91df-c01e4bed6eac",
   "metadata": {},
   "source": [
    "## Plug in:\n",
    "\n",
    "##  $\\int (R_\\oplus^2 - R^2)^{-1/2} dR = R_\\oplus \\int (1 - \\sin^2\\theta)^{-1/2} \\, \\cos\\theta d\\theta$\n",
    "\n",
    "## And we all remember that $\\cos^2\\theta + \\sin^2\\theta = 1$, so:\n",
    "\n",
    "##  $\\int (R_\\oplus^2 - R^2)^{-1/2} dR = \\int (\\cos\\theta)^{-1} \\, \\cos\\theta d\\theta = \\int d\\theta$\n",
    "\n",
    "## Note that our $R_\\oplus$ \"disappeared\"!"
   ]
  },
  {
   "cell_type": "markdown",
   "id": "5b32928f-b717-4f15-9d92-538148b2f413",
   "metadata": {},
   "source": [
    "## And, well, that's rather simple!  But what do we integrate over (i.e. which values of $\\theta$?\n",
    "\n",
    "## I leave it to the reader to agree we go from 0 to $\\pi/2$\n",
    "\n",
    "## Altogether now:\n",
    "\n",
    "\n",
    "## $t = \\frac{\\pi}{2} \\sqrt{\\frac{4\\pi G \\rho_\\oplus}{3}}$"
   ]
  },
  {
   "cell_type": "markdown",
   "id": "ececbac7-1e26-4265-a243-5bea8f1f06c8",
   "metadata": {},
   "source": [
    "## Let's evaluate that"
   ]
  },
  {
   "cell_type": "code",
   "execution_count": 86,
   "id": "8906eac2-4283-4723-9ffa-e16ab681fbbb",
   "metadata": {},
   "outputs": [
    {
     "data": {
      "text/latex": [
       "$1267.325 \\; \\mathrm{s}$"
      ],
      "text/plain": [
       "<Quantity 1267.32498834 s>"
      ]
     },
     "execution_count": 86,
     "metadata": {},
     "output_type": "execute_result"
    }
   ],
   "source": [
    "tt = (np.pi / 2) / np.sqrt(4*np.pi * constants.G * rho_E / 3)\n",
    "tt.decompose()\n",
    "#tt.to('s')"
   ]
  },
  {
   "cell_type": "markdown",
   "id": "3a5bdf3c-d312-4071-a74b-b23387415df6",
   "metadata": {},
   "source": [
    "## So our numerical \"integration\" was accurate to $\\approx 4$s or better than 0.1%"
   ]
  },
  {
   "cell_type": "code",
   "execution_count": null,
   "id": "f8440d18-2548-43d8-8804-9d69dfa348d2",
   "metadata": {},
   "outputs": [],
   "source": []
  }
 ],
 "metadata": {
  "kernelspec": {
   "display_name": "Python 3 (ipykernel)",
   "language": "python",
   "name": "python3"
  },
  "language_info": {
   "codemirror_mode": {
    "name": "ipython",
    "version": 3
   },
   "file_extension": ".py",
   "mimetype": "text/x-python",
   "name": "python",
   "nbconvert_exporter": "python",
   "pygments_lexer": "ipython3",
   "version": "3.12.7"
  }
 },
 "nbformat": 4,
 "nbformat_minor": 5
}
